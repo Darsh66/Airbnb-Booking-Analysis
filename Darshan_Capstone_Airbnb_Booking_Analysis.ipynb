{
  "nbformat": 4,
  "nbformat_minor": 0,
  "metadata": {
    "colab": {
      "name": "Darshan-Capstone-Airbnb Booking Analysis.ipynb",
      "provenance": [],
      "collapsed_sections": [],
      "authorship_tag": "ABX9TyPxrVHG03rwpzJKiifDZVub",
      "include_colab_link": true
    },
    "kernelspec": {
      "name": "python3",
      "display_name": "Python 3"
    },
    "language_info": {
      "name": "python"
    }
  },
  "cells": [
    {
      "cell_type": "markdown",
      "metadata": {
        "id": "view-in-github",
        "colab_type": "text"
      },
      "source": [
        "<a href=\"https://colab.research.google.com/github/Darsh66/Airbnb-Booking-Analysis/blob/main/Darshan_Capstone_Airbnb_Booking_Analysis.ipynb\" target=\"_parent\"><img src=\"https://colab.research.google.com/assets/colab-badge.svg\" alt=\"Open In Colab\"/></a>"
      ]
    },
    {
      "cell_type": "markdown",
      "source": [
        "## <b> Since 2008, guests and hosts have used Airbnb to expand on traveling possibilities and present a more unique, personalized way of experiencing the world. Today, Airbnb became one of a kind service that is used and recognized by the whole world. Data analysis on millions of listings provided through Airbnb is a crucial factor for the company. These millions of listings generate a lot of data - data that can be analyzed and used for security, business decisions, understanding of customers' and providers' (hosts) behavior and performance on the platform, guiding marketing initiatives, implementation of innovative additional services and much more. </b>\n",
        "\n",
        "## <b>This dataset has around 49,000 observations in it with 16 columns and it is a mix between categorical and numeric values. </b>\n",
        "\n",
        "## <b> Explore and analyze the data to discover key understandings : \n",
        "* What is the different types of room types and neighbourhood group available in the dataset ?\n",
        "* What is the current status of unique neighbourhood group within columns like host name and host listing ?\n",
        "* What is the distribution of price in Airbnb dataset ?\n",
        "* What is the average room rent and availabilty of properties in a year at different locality in accordance with minimum nights and price provided within dataset ?\n",
        "* What is the overall density and distribution of price within the different locations of neighbourhood group and also showing the price available under $500 ?\n",
        "* How is neighbourhood, neighbourhood group and room types related to eachother in top locality and can it affect the booking of guest ?\n",
        "* What is the trend of minimum nights within the area in respect of average price range ? </b>"
      ],
      "metadata": {
        "id": "ev-iuTF21L0X"
      }
    },
    {
      "cell_type": "code",
      "source": [
        ""
      ],
      "metadata": {
        "id": "t6y103_81jfc"
      },
      "execution_count": null,
      "outputs": []
    },
    {
      "cell_type": "markdown",
      "source": [
        ""
      ],
      "metadata": {
        "id": "zkF-YwvI1N9s"
      }
    }
  ]
}